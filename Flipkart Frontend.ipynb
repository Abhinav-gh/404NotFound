{
  "cells": [
    {
      "cell_type": "markdown",
      "metadata": {
        "id": "PFop7A1Vfvjm"
      },
      "source": [
        "# 1. Install Gradio and Required Libraries\n",
        "### Start by installing Gradio if it's not already installed."
      ]
    },
    {
      "cell_type": "code",
      "execution_count": 15,
      "metadata": {
        "id": "ewtMbahKcF3w",
        "collapsed": true,
        "outputId": "9c930aec-93f2-4e0e-b3de-cc326a5325ad",
        "colab": {
          "base_uri": "https://localhost:8080/"
        }
      },
      "outputs": [
        {
          "output_type": "stream",
          "name": "stdout",
          "text": [
            "Requirement already satisfied: gradio in /usr/local/lib/python3.10/dist-packages (5.1.0)\n",
            "Requirement already satisfied: aiofiles<24.0,>=22.0 in /usr/local/lib/python3.10/dist-packages (from gradio) (23.2.1)\n",
            "Requirement already satisfied: anyio<5.0,>=3.0 in /usr/local/lib/python3.10/dist-packages (from gradio) (3.7.1)\n",
            "Requirement already satisfied: fastapi<1.0 in /usr/local/lib/python3.10/dist-packages (from gradio) (0.115.2)\n",
            "Requirement already satisfied: ffmpy in /usr/local/lib/python3.10/dist-packages (from gradio) (0.4.0)\n",
            "Requirement already satisfied: gradio-client==1.4.0 in /usr/local/lib/python3.10/dist-packages (from gradio) (1.4.0)\n",
            "Requirement already satisfied: httpx>=0.24.1 in /usr/local/lib/python3.10/dist-packages (from gradio) (0.27.2)\n",
            "Requirement already satisfied: huggingface-hub>=0.25.1 in /usr/local/lib/python3.10/dist-packages (from gradio) (0.25.2)\n",
            "Requirement already satisfied: jinja2<4.0 in /usr/local/lib/python3.10/dist-packages (from gradio) (3.1.4)\n",
            "Requirement already satisfied: markupsafe~=2.0 in /usr/local/lib/python3.10/dist-packages (from gradio) (2.1.5)\n",
            "Requirement already satisfied: numpy<3.0,>=1.0 in /usr/local/lib/python3.10/dist-packages (from gradio) (1.26.4)\n",
            "Requirement already satisfied: orjson~=3.0 in /usr/local/lib/python3.10/dist-packages (from gradio) (3.10.7)\n",
            "Requirement already satisfied: packaging in /usr/local/lib/python3.10/dist-packages (from gradio) (24.1)\n",
            "Requirement already satisfied: pandas<3.0,>=1.0 in /usr/local/lib/python3.10/dist-packages (from gradio) (2.2.2)\n",
            "Requirement already satisfied: pillow<11.0,>=8.0 in /usr/local/lib/python3.10/dist-packages (from gradio) (10.4.0)\n",
            "Requirement already satisfied: pydantic>=2.0 in /usr/local/lib/python3.10/dist-packages (from gradio) (2.9.2)\n",
            "Requirement already satisfied: pydub in /usr/local/lib/python3.10/dist-packages (from gradio) (0.25.1)\n",
            "Requirement already satisfied: python-multipart>=0.0.9 in /usr/local/lib/python3.10/dist-packages (from gradio) (0.0.12)\n",
            "Requirement already satisfied: pyyaml<7.0,>=5.0 in /usr/local/lib/python3.10/dist-packages (from gradio) (6.0.2)\n",
            "Requirement already satisfied: ruff>=0.2.2 in /usr/local/lib/python3.10/dist-packages (from gradio) (0.7.0)\n",
            "Requirement already satisfied: semantic-version~=2.0 in /usr/local/lib/python3.10/dist-packages (from gradio) (2.10.0)\n",
            "Requirement already satisfied: tomlkit==0.12.0 in /usr/local/lib/python3.10/dist-packages (from gradio) (0.12.0)\n",
            "Requirement already satisfied: typer<1.0,>=0.12 in /usr/local/lib/python3.10/dist-packages (from gradio) (0.12.5)\n",
            "Requirement already satisfied: typing-extensions~=4.0 in /usr/local/lib/python3.10/dist-packages (from gradio) (4.12.2)\n",
            "Requirement already satisfied: uvicorn>=0.14.0 in /usr/local/lib/python3.10/dist-packages (from gradio) (0.32.0)\n",
            "Requirement already satisfied: fsspec in /usr/local/lib/python3.10/dist-packages (from gradio-client==1.4.0->gradio) (2024.6.1)\n",
            "Requirement already satisfied: websockets<13.0,>=10.0 in /usr/local/lib/python3.10/dist-packages (from gradio-client==1.4.0->gradio) (12.0)\n",
            "Requirement already satisfied: idna>=2.8 in /usr/local/lib/python3.10/dist-packages (from anyio<5.0,>=3.0->gradio) (3.10)\n",
            "Requirement already satisfied: sniffio>=1.1 in /usr/local/lib/python3.10/dist-packages (from anyio<5.0,>=3.0->gradio) (1.3.1)\n",
            "Requirement already satisfied: exceptiongroup in /usr/local/lib/python3.10/dist-packages (from anyio<5.0,>=3.0->gradio) (1.2.2)\n",
            "Requirement already satisfied: starlette<0.41.0,>=0.37.2 in /usr/local/lib/python3.10/dist-packages (from fastapi<1.0->gradio) (0.40.0)\n",
            "Requirement already satisfied: certifi in /usr/local/lib/python3.10/dist-packages (from httpx>=0.24.1->gradio) (2024.8.30)\n",
            "Requirement already satisfied: httpcore==1.* in /usr/local/lib/python3.10/dist-packages (from httpx>=0.24.1->gradio) (1.0.6)\n",
            "Requirement already satisfied: h11<0.15,>=0.13 in /usr/local/lib/python3.10/dist-packages (from httpcore==1.*->httpx>=0.24.1->gradio) (0.14.0)\n",
            "Requirement already satisfied: filelock in /usr/local/lib/python3.10/dist-packages (from huggingface-hub>=0.25.1->gradio) (3.16.1)\n",
            "Requirement already satisfied: requests in /usr/local/lib/python3.10/dist-packages (from huggingface-hub>=0.25.1->gradio) (2.32.3)\n",
            "Requirement already satisfied: tqdm>=4.42.1 in /usr/local/lib/python3.10/dist-packages (from huggingface-hub>=0.25.1->gradio) (4.66.5)\n",
            "Requirement already satisfied: python-dateutil>=2.8.2 in /usr/local/lib/python3.10/dist-packages (from pandas<3.0,>=1.0->gradio) (2.8.2)\n",
            "Requirement already satisfied: pytz>=2020.1 in /usr/local/lib/python3.10/dist-packages (from pandas<3.0,>=1.0->gradio) (2024.2)\n",
            "Requirement already satisfied: tzdata>=2022.7 in /usr/local/lib/python3.10/dist-packages (from pandas<3.0,>=1.0->gradio) (2024.2)\n",
            "Requirement already satisfied: annotated-types>=0.6.0 in /usr/local/lib/python3.10/dist-packages (from pydantic>=2.0->gradio) (0.7.0)\n",
            "Requirement already satisfied: pydantic-core==2.23.4 in /usr/local/lib/python3.10/dist-packages (from pydantic>=2.0->gradio) (2.23.4)\n",
            "Requirement already satisfied: click>=8.0.0 in /usr/local/lib/python3.10/dist-packages (from typer<1.0,>=0.12->gradio) (8.1.7)\n",
            "Requirement already satisfied: shellingham>=1.3.0 in /usr/local/lib/python3.10/dist-packages (from typer<1.0,>=0.12->gradio) (1.5.4)\n",
            "Requirement already satisfied: rich>=10.11.0 in /usr/local/lib/python3.10/dist-packages (from typer<1.0,>=0.12->gradio) (13.9.2)\n",
            "Requirement already satisfied: six>=1.5 in /usr/local/lib/python3.10/dist-packages (from python-dateutil>=2.8.2->pandas<3.0,>=1.0->gradio) (1.16.0)\n",
            "Requirement already satisfied: markdown-it-py>=2.2.0 in /usr/local/lib/python3.10/dist-packages (from rich>=10.11.0->typer<1.0,>=0.12->gradio) (3.0.0)\n",
            "Requirement already satisfied: pygments<3.0.0,>=2.13.0 in /usr/local/lib/python3.10/dist-packages (from rich>=10.11.0->typer<1.0,>=0.12->gradio) (2.18.0)\n",
            "Requirement already satisfied: charset-normalizer<4,>=2 in /usr/local/lib/python3.10/dist-packages (from requests->huggingface-hub>=0.25.1->gradio) (3.4.0)\n",
            "Requirement already satisfied: urllib3<3,>=1.21.1 in /usr/local/lib/python3.10/dist-packages (from requests->huggingface-hub>=0.25.1->gradio) (2.2.3)\n",
            "Requirement already satisfied: mdurl~=0.1 in /usr/local/lib/python3.10/dist-packages (from markdown-it-py>=2.2.0->rich>=10.11.0->typer<1.0,>=0.12->gradio) (0.1.2)\n",
            "Requirement already satisfied: cv in /usr/local/lib/python3.10/dist-packages (1.0.0)\n",
            "Requirement already satisfied: ultralytics in /usr/local/lib/python3.10/dist-packages (8.3.15)\n",
            "Requirement already satisfied: numpy>=1.23.0 in /usr/local/lib/python3.10/dist-packages (from ultralytics) (1.26.4)\n",
            "Requirement already satisfied: matplotlib>=3.3.0 in /usr/local/lib/python3.10/dist-packages (from ultralytics) (3.7.1)\n",
            "Requirement already satisfied: opencv-python>=4.6.0 in /usr/local/lib/python3.10/dist-packages (from ultralytics) (4.10.0.84)\n",
            "Requirement already satisfied: pillow>=7.1.2 in /usr/local/lib/python3.10/dist-packages (from ultralytics) (10.4.0)\n",
            "Requirement already satisfied: pyyaml>=5.3.1 in /usr/local/lib/python3.10/dist-packages (from ultralytics) (6.0.2)\n",
            "Requirement already satisfied: requests>=2.23.0 in /usr/local/lib/python3.10/dist-packages (from ultralytics) (2.32.3)\n",
            "Requirement already satisfied: scipy>=1.4.1 in /usr/local/lib/python3.10/dist-packages (from ultralytics) (1.13.1)\n",
            "Requirement already satisfied: torch>=1.8.0 in /usr/local/lib/python3.10/dist-packages (from ultralytics) (2.4.1+cu121)\n",
            "Requirement already satisfied: torchvision>=0.9.0 in /usr/local/lib/python3.10/dist-packages (from ultralytics) (0.19.1+cu121)\n",
            "Requirement already satisfied: tqdm>=4.64.0 in /usr/local/lib/python3.10/dist-packages (from ultralytics) (4.66.5)\n",
            "Requirement already satisfied: psutil in /usr/local/lib/python3.10/dist-packages (from ultralytics) (5.9.5)\n",
            "Requirement already satisfied: py-cpuinfo in /usr/local/lib/python3.10/dist-packages (from ultralytics) (9.0.0)\n",
            "Requirement already satisfied: pandas>=1.1.4 in /usr/local/lib/python3.10/dist-packages (from ultralytics) (2.2.2)\n",
            "Requirement already satisfied: seaborn>=0.11.0 in /usr/local/lib/python3.10/dist-packages (from ultralytics) (0.13.2)\n",
            "Requirement already satisfied: ultralytics-thop>=2.0.0 in /usr/local/lib/python3.10/dist-packages (from ultralytics) (2.0.9)\n",
            "Requirement already satisfied: contourpy>=1.0.1 in /usr/local/lib/python3.10/dist-packages (from matplotlib>=3.3.0->ultralytics) (1.3.0)\n",
            "Requirement already satisfied: cycler>=0.10 in /usr/local/lib/python3.10/dist-packages (from matplotlib>=3.3.0->ultralytics) (0.12.1)\n",
            "Requirement already satisfied: fonttools>=4.22.0 in /usr/local/lib/python3.10/dist-packages (from matplotlib>=3.3.0->ultralytics) (4.54.1)\n",
            "Requirement already satisfied: kiwisolver>=1.0.1 in /usr/local/lib/python3.10/dist-packages (from matplotlib>=3.3.0->ultralytics) (1.4.7)\n",
            "Requirement already satisfied: packaging>=20.0 in /usr/local/lib/python3.10/dist-packages (from matplotlib>=3.3.0->ultralytics) (24.1)\n",
            "Requirement already satisfied: pyparsing>=2.3.1 in /usr/local/lib/python3.10/dist-packages (from matplotlib>=3.3.0->ultralytics) (3.1.4)\n",
            "Requirement already satisfied: python-dateutil>=2.7 in /usr/local/lib/python3.10/dist-packages (from matplotlib>=3.3.0->ultralytics) (2.8.2)\n",
            "Requirement already satisfied: pytz>=2020.1 in /usr/local/lib/python3.10/dist-packages (from pandas>=1.1.4->ultralytics) (2024.2)\n",
            "Requirement already satisfied: tzdata>=2022.7 in /usr/local/lib/python3.10/dist-packages (from pandas>=1.1.4->ultralytics) (2024.2)\n",
            "Requirement already satisfied: charset-normalizer<4,>=2 in /usr/local/lib/python3.10/dist-packages (from requests>=2.23.0->ultralytics) (3.4.0)\n",
            "Requirement already satisfied: idna<4,>=2.5 in /usr/local/lib/python3.10/dist-packages (from requests>=2.23.0->ultralytics) (3.10)\n",
            "Requirement already satisfied: urllib3<3,>=1.21.1 in /usr/local/lib/python3.10/dist-packages (from requests>=2.23.0->ultralytics) (2.2.3)\n",
            "Requirement already satisfied: certifi>=2017.4.17 in /usr/local/lib/python3.10/dist-packages (from requests>=2.23.0->ultralytics) (2024.8.30)\n",
            "Requirement already satisfied: filelock in /usr/local/lib/python3.10/dist-packages (from torch>=1.8.0->ultralytics) (3.16.1)\n",
            "Requirement already satisfied: typing-extensions>=4.8.0 in /usr/local/lib/python3.10/dist-packages (from torch>=1.8.0->ultralytics) (4.12.2)\n",
            "Requirement already satisfied: sympy in /usr/local/lib/python3.10/dist-packages (from torch>=1.8.0->ultralytics) (1.13.3)\n",
            "Requirement already satisfied: networkx in /usr/local/lib/python3.10/dist-packages (from torch>=1.8.0->ultralytics) (3.4)\n",
            "Requirement already satisfied: jinja2 in /usr/local/lib/python3.10/dist-packages (from torch>=1.8.0->ultralytics) (3.1.4)\n",
            "Requirement already satisfied: fsspec in /usr/local/lib/python3.10/dist-packages (from torch>=1.8.0->ultralytics) (2024.6.1)\n",
            "Requirement already satisfied: six>=1.5 in /usr/local/lib/python3.10/dist-packages (from python-dateutil>=2.7->matplotlib>=3.3.0->ultralytics) (1.16.0)\n",
            "Requirement already satisfied: MarkupSafe>=2.0 in /usr/local/lib/python3.10/dist-packages (from jinja2->torch>=1.8.0->ultralytics) (2.1.5)\n",
            "Requirement already satisfied: mpmath<1.4,>=1.1.0 in /usr/local/lib/python3.10/dist-packages (from sympy->torch>=1.8.0->ultralytics) (1.3.0)\n",
            "Requirement already satisfied: supervision in /usr/local/lib/python3.10/dist-packages (0.24.0)\n",
            "Requirement already satisfied: defusedxml<0.8.0,>=0.7.1 in /usr/local/lib/python3.10/dist-packages (from supervision) (0.7.1)\n",
            "Requirement already satisfied: matplotlib>=3.6.0 in /usr/local/lib/python3.10/dist-packages (from supervision) (3.7.1)\n",
            "Requirement already satisfied: numpy>=1.23.3 in /usr/local/lib/python3.10/dist-packages (from supervision) (1.26.4)\n",
            "Requirement already satisfied: opencv-python>=4.5.5.64 in /usr/local/lib/python3.10/dist-packages (from supervision) (4.10.0.84)\n",
            "Requirement already satisfied: pillow>=9.4 in /usr/local/lib/python3.10/dist-packages (from supervision) (10.4.0)\n",
            "Requirement already satisfied: pyyaml>=5.3 in /usr/local/lib/python3.10/dist-packages (from supervision) (6.0.2)\n",
            "Requirement already satisfied: scipy<2.0.0,>=1.10.0 in /usr/local/lib/python3.10/dist-packages (from supervision) (1.13.1)\n",
            "Requirement already satisfied: contourpy>=1.0.1 in /usr/local/lib/python3.10/dist-packages (from matplotlib>=3.6.0->supervision) (1.3.0)\n",
            "Requirement already satisfied: cycler>=0.10 in /usr/local/lib/python3.10/dist-packages (from matplotlib>=3.6.0->supervision) (0.12.1)\n",
            "Requirement already satisfied: fonttools>=4.22.0 in /usr/local/lib/python3.10/dist-packages (from matplotlib>=3.6.0->supervision) (4.54.1)\n",
            "Requirement already satisfied: kiwisolver>=1.0.1 in /usr/local/lib/python3.10/dist-packages (from matplotlib>=3.6.0->supervision) (1.4.7)\n",
            "Requirement already satisfied: packaging>=20.0 in /usr/local/lib/python3.10/dist-packages (from matplotlib>=3.6.0->supervision) (24.1)\n",
            "Requirement already satisfied: pyparsing>=2.3.1 in /usr/local/lib/python3.10/dist-packages (from matplotlib>=3.6.0->supervision) (3.1.4)\n",
            "Requirement already satisfied: python-dateutil>=2.7 in /usr/local/lib/python3.10/dist-packages (from matplotlib>=3.6.0->supervision) (2.8.2)\n",
            "Requirement already satisfied: six>=1.5 in /usr/local/lib/python3.10/dist-packages (from python-dateutil>=2.7->matplotlib>=3.6.0->supervision) (1.16.0)\n",
            "Requirement already satisfied: google-generativeai in /usr/local/lib/python3.10/dist-packages (0.7.2)\n",
            "Requirement already satisfied: google-ai-generativelanguage==0.6.6 in /usr/local/lib/python3.10/dist-packages (from google-generativeai) (0.6.6)\n",
            "Requirement already satisfied: google-api-core in /usr/local/lib/python3.10/dist-packages (from google-generativeai) (2.19.2)\n",
            "Requirement already satisfied: google-api-python-client in /usr/local/lib/python3.10/dist-packages (from google-generativeai) (2.137.0)\n",
            "Requirement already satisfied: google-auth>=2.15.0 in /usr/local/lib/python3.10/dist-packages (from google-generativeai) (2.27.0)\n",
            "Requirement already satisfied: protobuf in /usr/local/lib/python3.10/dist-packages (from google-generativeai) (3.20.3)\n",
            "Requirement already satisfied: pydantic in /usr/local/lib/python3.10/dist-packages (from google-generativeai) (2.9.2)\n",
            "Requirement already satisfied: tqdm in /usr/local/lib/python3.10/dist-packages (from google-generativeai) (4.66.5)\n",
            "Requirement already satisfied: typing-extensions in /usr/local/lib/python3.10/dist-packages (from google-generativeai) (4.12.2)\n",
            "Requirement already satisfied: proto-plus<2.0.0dev,>=1.22.3 in /usr/local/lib/python3.10/dist-packages (from google-ai-generativelanguage==0.6.6->google-generativeai) (1.24.0)\n",
            "Requirement already satisfied: googleapis-common-protos<2.0.dev0,>=1.56.2 in /usr/local/lib/python3.10/dist-packages (from google-api-core->google-generativeai) (1.65.0)\n",
            "Requirement already satisfied: requests<3.0.0.dev0,>=2.18.0 in /usr/local/lib/python3.10/dist-packages (from google-api-core->google-generativeai) (2.32.3)\n",
            "Requirement already satisfied: cachetools<6.0,>=2.0.0 in /usr/local/lib/python3.10/dist-packages (from google-auth>=2.15.0->google-generativeai) (5.5.0)\n",
            "Requirement already satisfied: pyasn1-modules>=0.2.1 in /usr/local/lib/python3.10/dist-packages (from google-auth>=2.15.0->google-generativeai) (0.4.1)\n",
            "Requirement already satisfied: rsa<5,>=3.1.4 in /usr/local/lib/python3.10/dist-packages (from google-auth>=2.15.0->google-generativeai) (4.9)\n",
            "Requirement already satisfied: httplib2<1.dev0,>=0.19.0 in /usr/local/lib/python3.10/dist-packages (from google-api-python-client->google-generativeai) (0.22.0)\n",
            "Requirement already satisfied: google-auth-httplib2<1.0.0,>=0.2.0 in /usr/local/lib/python3.10/dist-packages (from google-api-python-client->google-generativeai) (0.2.0)\n",
            "Requirement already satisfied: uritemplate<5,>=3.0.1 in /usr/local/lib/python3.10/dist-packages (from google-api-python-client->google-generativeai) (4.1.1)\n",
            "Requirement already satisfied: annotated-types>=0.6.0 in /usr/local/lib/python3.10/dist-packages (from pydantic->google-generativeai) (0.7.0)\n",
            "Requirement already satisfied: pydantic-core==2.23.4 in /usr/local/lib/python3.10/dist-packages (from pydantic->google-generativeai) (2.23.4)\n",
            "Requirement already satisfied: grpcio<2.0dev,>=1.33.2 in /usr/local/lib/python3.10/dist-packages (from google-api-core[grpc]!=2.0.*,!=2.1.*,!=2.10.*,!=2.2.*,!=2.3.*,!=2.4.*,!=2.5.*,!=2.6.*,!=2.7.*,!=2.8.*,!=2.9.*,<3.0.0dev,>=1.34.1->google-ai-generativelanguage==0.6.6->google-generativeai) (1.64.1)\n",
            "Requirement already satisfied: grpcio-status<2.0.dev0,>=1.33.2 in /usr/local/lib/python3.10/dist-packages (from google-api-core[grpc]!=2.0.*,!=2.1.*,!=2.10.*,!=2.2.*,!=2.3.*,!=2.4.*,!=2.5.*,!=2.6.*,!=2.7.*,!=2.8.*,!=2.9.*,<3.0.0dev,>=1.34.1->google-ai-generativelanguage==0.6.6->google-generativeai) (1.48.2)\n",
            "Requirement already satisfied: pyparsing!=3.0.0,!=3.0.1,!=3.0.2,!=3.0.3,<4,>=2.4.2 in /usr/local/lib/python3.10/dist-packages (from httplib2<1.dev0,>=0.19.0->google-api-python-client->google-generativeai) (3.1.4)\n",
            "Requirement already satisfied: pyasn1<0.7.0,>=0.4.6 in /usr/local/lib/python3.10/dist-packages (from pyasn1-modules>=0.2.1->google-auth>=2.15.0->google-generativeai) (0.6.1)\n",
            "Requirement already satisfied: charset-normalizer<4,>=2 in /usr/local/lib/python3.10/dist-packages (from requests<3.0.0.dev0,>=2.18.0->google-api-core->google-generativeai) (3.4.0)\n",
            "Requirement already satisfied: idna<4,>=2.5 in /usr/local/lib/python3.10/dist-packages (from requests<3.0.0.dev0,>=2.18.0->google-api-core->google-generativeai) (3.10)\n",
            "Requirement already satisfied: urllib3<3,>=1.21.1 in /usr/local/lib/python3.10/dist-packages (from requests<3.0.0.dev0,>=2.18.0->google-api-core->google-generativeai) (2.2.3)\n",
            "Requirement already satisfied: certifi>=2017.4.17 in /usr/local/lib/python3.10/dist-packages (from requests<3.0.0.dev0,>=2.18.0->google-api-core->google-generativeai) (2024.8.30)\n",
            "Requirement already satisfied: paddleocr in /usr/local/lib/python3.10/dist-packages (2.8.1)\n",
            "Requirement already satisfied: shapely in /usr/local/lib/python3.10/dist-packages (from paddleocr) (2.0.6)\n",
            "Requirement already satisfied: scikit-image in /usr/local/lib/python3.10/dist-packages (from paddleocr) (0.24.0)\n",
            "Requirement already satisfied: imgaug in /usr/local/lib/python3.10/dist-packages (from paddleocr) (0.4.0)\n",
            "Requirement already satisfied: pyclipper in /usr/local/lib/python3.10/dist-packages (from paddleocr) (1.3.0.post5)\n",
            "Requirement already satisfied: lmdb in /usr/local/lib/python3.10/dist-packages (from paddleocr) (1.5.1)\n",
            "Requirement already satisfied: tqdm in /usr/local/lib/python3.10/dist-packages (from paddleocr) (4.66.5)\n",
            "Requirement already satisfied: numpy<2.0 in /usr/local/lib/python3.10/dist-packages (from paddleocr) (1.26.4)\n",
            "Requirement already satisfied: rapidfuzz in /usr/local/lib/python3.10/dist-packages (from paddleocr) (3.10.0)\n",
            "Requirement already satisfied: opencv-python in /usr/local/lib/python3.10/dist-packages (from paddleocr) (4.10.0.84)\n",
            "Requirement already satisfied: opencv-contrib-python in /usr/local/lib/python3.10/dist-packages (from paddleocr) (4.10.0.84)\n",
            "Requirement already satisfied: cython in /usr/local/lib/python3.10/dist-packages (from paddleocr) (3.0.11)\n",
            "Requirement already satisfied: Pillow in /usr/local/lib/python3.10/dist-packages (from paddleocr) (10.4.0)\n",
            "Requirement already satisfied: pyyaml in /usr/local/lib/python3.10/dist-packages (from paddleocr) (6.0.2)\n",
            "Requirement already satisfied: python-docx in /usr/local/lib/python3.10/dist-packages (from paddleocr) (1.1.2)\n",
            "Requirement already satisfied: beautifulsoup4 in /usr/local/lib/python3.10/dist-packages (from paddleocr) (4.12.3)\n",
            "Requirement already satisfied: fonttools>=4.24.0 in /usr/local/lib/python3.10/dist-packages (from paddleocr) (4.54.1)\n",
            "Requirement already satisfied: fire>=0.3.0 in /usr/local/lib/python3.10/dist-packages (from paddleocr) (0.7.0)\n",
            "Requirement already satisfied: requests in /usr/local/lib/python3.10/dist-packages (from paddleocr) (2.32.3)\n",
            "Requirement already satisfied: termcolor in /usr/local/lib/python3.10/dist-packages (from fire>=0.3.0->paddleocr) (2.5.0)\n",
            "Requirement already satisfied: soupsieve>1.2 in /usr/local/lib/python3.10/dist-packages (from beautifulsoup4->paddleocr) (2.6)\n",
            "Requirement already satisfied: six in /usr/local/lib/python3.10/dist-packages (from imgaug->paddleocr) (1.16.0)\n",
            "Requirement already satisfied: scipy in /usr/local/lib/python3.10/dist-packages (from imgaug->paddleocr) (1.13.1)\n",
            "Requirement already satisfied: matplotlib in /usr/local/lib/python3.10/dist-packages (from imgaug->paddleocr) (3.7.1)\n",
            "Requirement already satisfied: imageio in /usr/local/lib/python3.10/dist-packages (from imgaug->paddleocr) (2.35.1)\n",
            "Requirement already satisfied: networkx>=2.8 in /usr/local/lib/python3.10/dist-packages (from scikit-image->paddleocr) (3.4)\n",
            "Requirement already satisfied: tifffile>=2022.8.12 in /usr/local/lib/python3.10/dist-packages (from scikit-image->paddleocr) (2024.9.20)\n",
            "Requirement already satisfied: packaging>=21 in /usr/local/lib/python3.10/dist-packages (from scikit-image->paddleocr) (24.1)\n",
            "Requirement already satisfied: lazy-loader>=0.4 in /usr/local/lib/python3.10/dist-packages (from scikit-image->paddleocr) (0.4)\n",
            "Requirement already satisfied: lxml>=3.1.0 in /usr/local/lib/python3.10/dist-packages (from python-docx->paddleocr) (4.9.4)\n",
            "Requirement already satisfied: typing-extensions>=4.9.0 in /usr/local/lib/python3.10/dist-packages (from python-docx->paddleocr) (4.12.2)\n",
            "Requirement already satisfied: charset-normalizer<4,>=2 in /usr/local/lib/python3.10/dist-packages (from requests->paddleocr) (3.4.0)\n",
            "Requirement already satisfied: idna<4,>=2.5 in /usr/local/lib/python3.10/dist-packages (from requests->paddleocr) (3.10)\n",
            "Requirement already satisfied: urllib3<3,>=1.21.1 in /usr/local/lib/python3.10/dist-packages (from requests->paddleocr) (2.2.3)\n",
            "Requirement already satisfied: certifi>=2017.4.17 in /usr/local/lib/python3.10/dist-packages (from requests->paddleocr) (2024.8.30)\n",
            "Requirement already satisfied: contourpy>=1.0.1 in /usr/local/lib/python3.10/dist-packages (from matplotlib->imgaug->paddleocr) (1.3.0)\n",
            "Requirement already satisfied: cycler>=0.10 in /usr/local/lib/python3.10/dist-packages (from matplotlib->imgaug->paddleocr) (0.12.1)\n",
            "Requirement already satisfied: kiwisolver>=1.0.1 in /usr/local/lib/python3.10/dist-packages (from matplotlib->imgaug->paddleocr) (1.4.7)\n",
            "Requirement already satisfied: pyparsing>=2.3.1 in /usr/local/lib/python3.10/dist-packages (from matplotlib->imgaug->paddleocr) (3.1.4)\n",
            "Requirement already satisfied: python-dateutil>=2.7 in /usr/local/lib/python3.10/dist-packages (from matplotlib->imgaug->paddleocr) (2.8.2)\n",
            "Requirement already satisfied: paddlepaddle in /usr/local/lib/python3.10/dist-packages (2.6.2)\n",
            "Requirement already satisfied: httpx in /usr/local/lib/python3.10/dist-packages (from paddlepaddle) (0.27.2)\n",
            "Requirement already satisfied: numpy>=1.13 in /usr/local/lib/python3.10/dist-packages (from paddlepaddle) (1.26.4)\n",
            "Requirement already satisfied: Pillow in /usr/local/lib/python3.10/dist-packages (from paddlepaddle) (10.4.0)\n",
            "Requirement already satisfied: decorator in /usr/local/lib/python3.10/dist-packages (from paddlepaddle) (4.4.2)\n",
            "Requirement already satisfied: astor in /usr/local/lib/python3.10/dist-packages (from paddlepaddle) (0.8.1)\n",
            "Requirement already satisfied: opt-einsum==3.3.0 in /usr/local/lib/python3.10/dist-packages (from paddlepaddle) (3.3.0)\n",
            "Requirement already satisfied: protobuf>=3.20.2 in /usr/local/lib/python3.10/dist-packages (from paddlepaddle) (3.20.3)\n",
            "Requirement already satisfied: anyio in /usr/local/lib/python3.10/dist-packages (from httpx->paddlepaddle) (3.7.1)\n",
            "Requirement already satisfied: certifi in /usr/local/lib/python3.10/dist-packages (from httpx->paddlepaddle) (2024.8.30)\n",
            "Requirement already satisfied: httpcore==1.* in /usr/local/lib/python3.10/dist-packages (from httpx->paddlepaddle) (1.0.6)\n",
            "Requirement already satisfied: idna in /usr/local/lib/python3.10/dist-packages (from httpx->paddlepaddle) (3.10)\n",
            "Requirement already satisfied: sniffio in /usr/local/lib/python3.10/dist-packages (from httpx->paddlepaddle) (1.3.1)\n",
            "Requirement already satisfied: h11<0.15,>=0.13 in /usr/local/lib/python3.10/dist-packages (from httpcore==1.*->httpx->paddlepaddle) (0.14.0)\n",
            "Requirement already satisfied: exceptiongroup in /usr/local/lib/python3.10/dist-packages (from anyio->httpx->paddlepaddle) (1.2.2)\n"
          ]
        }
      ],
      "source": [
        "! pip install gradio\n",
        "! pip install cv\n",
        "! pip install ultralytics\n",
        "! pip install supervision\n",
        "!pip install google-generativeai\n",
        "!pip install paddleocr\n",
        "!pip install paddlepaddle"
      ]
    },
    {
      "cell_type": "markdown",
      "metadata": {
        "id": "SRN1sfE1f83w"
      },
      "source": [
        "# 2. Import Libraries\n",
        "### Getting all the necessary Libraries"
      ]
    },
    {
      "cell_type": "code",
      "execution_count": 16,
      "metadata": {
        "id": "UAv0vzXggDUv"
      },
      "outputs": [],
      "source": [
        "import gradio as gr\n",
        "import random\n",
        "import numpy as np\n",
        "from PIL import Image\n",
        "import cv2\n",
        "import time\n",
        "from ultralytics import YOLO\n",
        "import supervision as sv\n",
        "import pandas as pd\n",
        "from google.colab.patches import cv2_imshow\n",
        "from IPython.display import clear_output\n",
        "from collections import defaultdict, deque\n",
        "import matplotlib.pyplot as plt\n",
        "import google.generativeai as genai\n",
        "from google.colab import userdata\n",
        "from datetime import datetime\n",
        "from paddleocr import PaddleOCR\n",
        "from google.colab import files\n"
      ]
    },
    {
      "cell_type": "markdown",
      "source": [
        "# Path Variables"
      ],
      "metadata": {
        "id": "rL9q03ZLhgTp"
      }
    },
    {
      "cell_type": "markdown",
      "source": [
        "### Path used in OCR"
      ],
      "metadata": {
        "id": "E_fdXv76gCNj"
      }
    },
    {
      "cell_type": "code",
      "source": [
        "OCR_M2 = \"/content/drive/MyDrive/OCR_Using_model/Yolo_Dataset/FlipkartGrid-OCR-1/runs/detect/train2/weights/best.pt\"\n",
        "OCR_M3=\"/content/drive/MyDrive/OCR_Using_model/Yolo_Dataset/Yolo_Checkpoints/improved-model/improved_Model3/weights/best.pt\"\n",
        "GOOGLE_API_KEY = userdata.get('GOOGLE_API_KEY')\n",
        "GEMINI_MODEL = 'models/gemini-1.5-flash'"
      ],
      "metadata": {
        "id": "moC_fRu3gF5i"
      },
      "execution_count": 17,
      "outputs": []
    },
    {
      "cell_type": "markdown",
      "source": [
        "### Path used in  Brand Recognition  model"
      ],
      "metadata": {
        "id": "DcEkgeqHhaqA"
      }
    },
    {
      "cell_type": "code",
      "source": [
        "Brand_Recognition_Model ='/content/drive/MyDrive/kitkat_s.pt'\n",
        "annotatedOpFile= 'annotated_output.mp4'"
      ],
      "metadata": {
        "id": "3MTryyENhegR"
      },
      "execution_count": null,
      "outputs": []
    },
    {
      "cell_type": "markdown",
      "metadata": {
        "id": "VBUU8AruRPZh"
      },
      "source": [
        "# 3. Import Drive\n"
      ]
    },
    {
      "cell_type": "code",
      "execution_count": 18,
      "metadata": {
        "colab": {
          "base_uri": "https://localhost:8080/"
        },
        "id": "vhR2uY9bRTau",
        "outputId": "5f54e824-1027-4549-c1da-eba4b4f0f0bb"
      },
      "outputs": [
        {
          "output_type": "stream",
          "name": "stdout",
          "text": [
            "Drive already mounted at /content/drive; to attempt to forcibly remount, call drive.mount(\"/content/drive\", force_remount=True).\n"
          ]
        }
      ],
      "source": [
        "from google.colab import drive\n",
        "\n",
        "drive.mount('/content/drive')"
      ]
    },
    {
      "cell_type": "markdown",
      "metadata": {
        "id": "qiZYtWJSgHK2"
      },
      "source": [
        "# 4. Brand Recognition Backend\n",
        "\n"
      ]
    },
    {
      "cell_type": "markdown",
      "metadata": {
        "id": "u0MRv4UcQ-1h"
      },
      "source": [
        "### Model for Grocery Detection"
      ]
    },
    {
      "cell_type": "code",
      "execution_count": null,
      "metadata": {
        "id": "js_xQ6MQQ9fk"
      },
      "outputs": [],
      "source": [
        "model_path = Brand_Recognition_Model\n",
        "model = YOLO(model_path)"
      ]
    },
    {
      "cell_type": "markdown",
      "metadata": {
        "id": "aOQpUpnWQZs8"
      },
      "source": [
        "### Image uploading for Grocery detection"
      ]
    },
    {
      "cell_type": "code",
      "execution_count": null,
      "metadata": {
        "id": "ARthG_EiPujD"
      },
      "outputs": [],
      "source": [
        "def detect_grocery_items(image):\n",
        "    image = np.array(image)[:, :, ::-1]\n",
        "    results = model(image)\n",
        "    annotated_image = results[0].plot()\n",
        "\n",
        "    class_ids = results[0].boxes.cls.cpu().numpy()\n",
        "    confidences = results[0].boxes.conf.cpu().numpy()\n",
        "\n",
        "    threshold = 0.4\n",
        "    class_counts = {}\n",
        "    class_confidences = {}\n",
        "\n",
        "    for i, class_id in enumerate(class_ids):\n",
        "        confidence = confidences[i]\n",
        "        if confidence >= threshold:\n",
        "            class_name = model.names[int(class_id)]\n",
        "\n",
        "            if class_name in class_counts:\n",
        "                class_counts[class_name] += 1\n",
        "            else:\n",
        "                class_counts[class_name] = 1\n",
        "\n",
        "            if class_name in class_confidences:\n",
        "                class_confidences[class_name].append(confidence)\n",
        "            else:\n",
        "                class_confidences[class_name] = [confidence]\n",
        "\n",
        "    if not class_counts:\n",
        "        return image, [], \"The model failed to recognize items or the image may contain untrained objects.\"\n",
        "\n",
        "    summary_table = [[class_name, count, f\"{np.mean(class_confidences[class_name]):.2f}\"]\n",
        "                     for class_name, count in class_counts.items()]\n",
        "\n",
        "    annotated_image_rgb = annotated_image[:, :, ::-1]\n",
        "    return annotated_image_rgb, summary_table, \"Object Recognised Successfully 🥳 \"\n"
      ]
    },
    {
      "cell_type": "markdown",
      "metadata": {
        "id": "EDw4WZqQQhvH"
      },
      "source": [
        "### Detect Grovcery brand from video"
      ]
    },
    {
      "cell_type": "code",
      "source": [
        "def iou(box1, box2):\n",
        "    # Calculate intersection over union\n",
        "    x1 = max(box1[0], box2[0])\n",
        "    y1 = max(box1[1], box2[1])\n",
        "    x2 = min(box1[2], box2[2])\n",
        "    y2 = min(box1[3], box2[3])\n",
        "\n",
        "    intersection = max(0, x2 - x1) * max(0, y2 - y1)\n",
        "    area1 = (box1[2] - box1[0]) * (box1[3] - box1[1])\n",
        "    area2 = (box2[2] - box2[0]) * (box2[3] - box2[1])\n",
        "\n",
        "    iou = intersection / float(area1 + area2 - intersection)\n",
        "    return iou"
      ],
      "metadata": {
        "id": "6RIf4Mr91Woi"
      },
      "execution_count": null,
      "outputs": []
    },
    {
      "cell_type": "code",
      "source": [
        "def smooth_box(box_history):\n",
        "    if not box_history:\n",
        "        return None\n",
        "    return np.mean(box_history, axis=0)"
      ],
      "metadata": {
        "id": "iRc7Or0d1Z0N"
      },
      "execution_count": null,
      "outputs": []
    },
    {
      "cell_type": "code",
      "execution_count": null,
      "metadata": {
        "id": "Uw6XOmA3gTKH"
      },
      "outputs": [],
      "source": [
        "def process_video(input_path, output_path):\n",
        "    cap = cv2.VideoCapture(input_path)\n",
        "\n",
        "    # Get video properties\n",
        "    width = int(cap.get(cv2.CAP_PROP_FRAME_WIDTH))\n",
        "    height = int(cap.get(cv2.CAP_PROP_FRAME_HEIGHT))\n",
        "    fps = int(cap.get(cv2.CAP_PROP_FPS))\n",
        "\n",
        "    # Initialize video writer\n",
        "    fourcc = cv2.VideoWriter_fourcc(*'mp4v')\n",
        "    out = cv2.VideoWriter(output_path, fourcc, fps, (width, height))\n",
        "\n",
        "    # Initialize variables for tracking\n",
        "    detected_items = {}\n",
        "    frame_count = 0\n",
        "\n",
        "    # For result confirmation\n",
        "    detections_history = defaultdict(lambda: defaultdict(int))\n",
        "\n",
        "    while cap.isOpened():\n",
        "        ret, frame = cap.read()\n",
        "        if not ret:\n",
        "            break\n",
        "\n",
        "        frame_count += 1\n",
        "\n",
        "        # Run YOLO detection every 5th frame\n",
        "        if frame_count % 5 == 0:\n",
        "            results = model(frame)\n",
        "\n",
        "            current_frame_detections = []\n",
        "\n",
        "            for r in results:\n",
        "                boxes = r.boxes\n",
        "                for box in boxes:\n",
        "                    x1, y1, x2, y2 = box.xyxy[0].tolist()\n",
        "                    conf = box.conf.item()\n",
        "                    cls = int(box.cls.item())\n",
        "                    brand = model.names[cls]\n",
        "\n",
        "                    current_frame_detections.append((brand, [x1, y1, x2, y2], conf))\n",
        "\n",
        "            # Match current detections with existing items\n",
        "            for brand, box, conf in current_frame_detections:\n",
        "                matched = False\n",
        "                for item_id, item_info in detected_items.items():\n",
        "                    if iou(box, item_info['smoothed_box']) > 0.5:\n",
        "                        item_info['frames_detected'] += 1\n",
        "                        item_info['total_conf'] += conf\n",
        "                        item_info['box_history'].append(box)\n",
        "                        if len(item_info['box_history']) > 10:\n",
        "                            item_info['box_history'].popleft()\n",
        "                        item_info['smoothed_box'] = smooth_box(item_info['box_history'])\n",
        "                        item_info['last_seen'] = frame_count\n",
        "                        matched = True\n",
        "                        break\n",
        "\n",
        "                if not matched:\n",
        "                    item_id = len(detected_items)\n",
        "                    detected_items[item_id] = {\n",
        "                        'brand': brand,\n",
        "                        'box_history': deque([box], maxlen=10),\n",
        "                        'smoothed_box': box,\n",
        "                        'frames_detected': 1,\n",
        "                        'total_conf': conf,\n",
        "                        'last_seen': frame_count\n",
        "                    }\n",
        "\n",
        "                detections_history[brand][frame_count] += 1\n",
        "\n",
        "\n",
        "        for item_id, item_info in list(detected_items.items()):\n",
        "            if frame_count - item_info['last_seen'] > fps * 2:  # 2 seconds\n",
        "                del detected_items[item_id]\n",
        "                continue\n",
        "\n",
        "            # Interpolate box position\n",
        "            if item_info['smoothed_box'] is not None:\n",
        "                alpha = 0.3\n",
        "                current_box = item_info['smoothed_box']\n",
        "                target_box = item_info['box_history'][-1] if item_info['box_history'] else current_box\n",
        "                interpolated_box = [\n",
        "                    current_box[i] * (1 - alpha) + target_box[i] * alpha\n",
        "                    for i in range(4)\n",
        "                ]\n",
        "                item_info['smoothed_box'] = interpolated_box\n",
        "\n",
        "                x1, y1, x2, y2 = map(int, interpolated_box)\n",
        "                cv2.rectangle(frame, (x1, y1), (x2, y2), (0, 255, 0), 2)\n",
        "                cv2.putText(frame, f\"{item_info['brand']}\",\n",
        "                            (x1, y1 - 10), cv2.FONT_HERSHEY_SIMPLEX, 0.9, (0, 255, 0), 2)\n",
        "\n",
        "        out.write(frame)\n",
        "\n",
        "    cap.release()\n",
        "    out.release()\n",
        "\n",
        "    # Calculate final counts and confirm results\n",
        "    total_frames = frame_count\n",
        "    confirmed_items = {}\n",
        "    for brand, frame_counts in detections_history.items():\n",
        "        detection_frames = len(frame_counts)\n",
        "        if detection_frames > total_frames * 0.1:\n",
        "            avg_count = sum(frame_counts.values()) / detection_frames\n",
        "            confirmed_items[brand] = round(avg_count)\n",
        "\n",
        "    return confirmed_items"
      ]
    },
    {
      "cell_type": "code",
      "source": [
        "def annotate_video(input_video):\n",
        "    output_path = annotatedOpFile\n",
        "    confirmed_items = process_video(input_video, output_path)\n",
        "\n",
        "    item_list = [(brand, quantity) for brand, quantity in confirmed_items.items()]\n",
        "\n",
        "    status_message = \"Video processed successfully!\"\n",
        "\n",
        "    return output_path, item_list, status_message"
      ],
      "metadata": {
        "id": "Lc2w5YVKnTjC"
      },
      "execution_count": null,
      "outputs": []
    },
    {
      "cell_type": "markdown",
      "metadata": {
        "id": "ix5AXFDbQ32Y"
      },
      "source": [
        "# 5. OCR Backend\n"
      ]
    },
    {
      "cell_type": "markdown",
      "source": [
        "### The PaddleOCR + Gemini combined type model.\n",
        "\n",
        "Run these 3 cells before trying out any model"
      ],
      "metadata": {
        "id": "6Oa81GnqbSFu"
      }
    },
    {
      "cell_type": "code",
      "source": [
        "# Function to draw bounding boxes and show text\n",
        "def draw_bounding_boxes(image_path):\n",
        "    # Read the image\n",
        "    img = Image.open(image_path)\n",
        "    result = ocr.ocr(image_path, cls=True)  # Get the OCR result\n",
        "\n",
        "    # Create a figure to display the image\n",
        "    plt.figure(figsize=(10, 10))\n",
        "    plt.imshow(img)\n",
        "    ax = plt.gca()\n",
        "    all_text_data = []\n",
        "    # Iterate through the results and draw boxes\n",
        "    for idx, line in enumerate(result[0]):\n",
        "        box = line[0]  # Get the bounding box coordinates\n",
        "        text = line[1][0]  # Extracted text\n",
        "        print(f\"[DEBUG] Box {idx + 1}: {text}\")  # Display text with box number\n",
        "        all_text_data.append(f\"{text}\")\n",
        "\n",
        "        # Draw the bounding box\n",
        "        polygon = plt.Polygon(box, fill=None, edgecolor='red', linewidth=2)\n",
        "        ax.add_patch(polygon)\n",
        "        # Add text label in the box\n",
        "        # ax.text(box[0][0], box[0][1] - 5, f\"{idx + 1}: {text}\", color='blue', fontsize=12)\n",
        "\n",
        "    plt.axis('off')  # Hide axes\n",
        "    plt.show()\n",
        "    return all_text_data\n",
        "\n"
      ],
      "metadata": {
        "id": "6NDjFDz3bVov"
      },
      "execution_count": 19,
      "outputs": []
    },
    {
      "cell_type": "code",
      "source": [
        "# Set your API key securely (store it in Colab’s userdata)\n",
        "genai.configure(api_key=GOOGLE_API_KEY)\n",
        "\n",
        "def gemini_context_correction(text):\n",
        "    \"\"\"Use Gemini API to refine noisy OCR results and extract MRP details.\"\"\"\n",
        "    model = genai.GenerativeModel('models/gemini-1.5-flash')\n",
        "\n",
        "    response = model.generate_content(\n",
        "        f\"Identify and extract manufacturing, expiration dates, and MRP from the following text. \"\n",
        "        f\"The dates may be written in dd/mm/yyyy format or as <Month_name> <Year> or <day> <Month_Name> <Year>. \"\n",
        "        f\"The text may contain noise or unclear information. If only one date is provided, assume it is the Expiration Date. \"\n",
        "        f\"Additionally, extract the MRP (e.g., 'MRP: ₹99.00', 'Rs. 99/-'). \"\n",
        "        f\"Format the output as:\\n\"\n",
        "        f\"Manufacturing Date: <MFG Date>\\n\"\n",
        "        f\"Expiration Date: <EXP Date>\\n\"\n",
        "        f\"MRP: <MRP Value>\\n\\n\"\n",
        "        f\"Here is the text: {text}\"\n",
        "    )\n",
        "\n",
        "    return response.text\n",
        "\n",
        "# Test Gemini with example text (replace with actual OCR output)\n",
        "sample_text = \"EXP 12/2024 MFD 08/2023 Best Before 06/2025 MRP Rs. 250/-\"\n",
        "refined_output = gemini_context_correction(sample_text)\n",
        "print(\"[DEBUG] Gemini Refined Output:\\n\", refined_output)\n"
      ],
      "metadata": {
        "id": "SAZdPiuIbXBu",
        "outputId": "c61800a8-abb3-44ba-f2a8-058f45bfdd7a",
        "colab": {
          "base_uri": "https://localhost:8080/",
          "height": 0
        }
      },
      "execution_count": 20,
      "outputs": [
        {
          "output_type": "stream",
          "name": "stdout",
          "text": [
            "[DEBUG] Gemini Refined Output:\n",
            " Manufacturing Date: 08/2023\n",
            "Expiration Date: 12/2024\n",
            "MRP: Rs. 250/- \n",
            "\n"
          ]
        }
      ]
    },
    {
      "cell_type": "code",
      "source": [
        "def validate_dates_with_gemini(mfg_date, exp_date):\n",
        "    \"\"\"Use Gemini API to validate and correct the manufacturing and expiration dates.\"\"\"\n",
        "    model = genai.GenerativeModel(GEMINI_MODEL)\n",
        "    response = model.generate_content = (\n",
        "        f\"Input Manufacturing Date: {mfg_date}, Expiration Date: {exp_date}. \"\n",
        "        f\"If either date is '-1', leave it as is. \"\n",
        "        f\"1. If the expiration date is earlier than the manufacturing date, swap them. \"\n",
        "        f\"2. If both dates are logically incorrect, suggest new valid dates based on typical timeframes. \"\n",
        "        f\"Always respond ONLY in the format:\\n\"\n",
        "        f\"Manufacturing Date: <MFG Date>, Expiration Date: <EXP Date>\"\n",
        "    )\n",
        "\n",
        "    # Check if the response contains valid parts\n",
        "    if response.parts:\n",
        "        # Process the response to extract final dates\n",
        "        final_dates = response.parts[0].text.strip()\n",
        "        return final_dates\n",
        "\n",
        "    # Return a message or a default value if no valid parts are found\n",
        "    return \"Invalid response from Gemini API.\"\n",
        "\n",
        "\n",
        "def extract_and_validate_with_gemini(refined_text):\n",
        "    \"\"\"\n",
        "    Use Gemini API to extract, validate, and correct manufacturing and expiration dates.\n",
        "    \"\"\"\n",
        "    model = genai.GenerativeModel(GEMINI_MODEL)\n",
        "\n",
        "    # Correctly call the generate_content method\n",
        "    response = model.generate_content(\n",
        "         f\"The extracted text is:\\n'{refined_text}'\\n\\n\"\n",
        "        f\"1. Extract the 'Manufacturing Date' and 'Expiration Date' from the above text. \"\n",
        "        f\"Ignore unrelated data (e.g., 'MRP: Not Found').\\n\"\n",
        "        f\"2. If a date is missing or invalid, return -1 for that date.\\n\"\n",
        "        f\"3. If the 'Expiration Date' is earlier than the 'Manufacturing Date', swap them.\\n\"\n",
        "        f\"4. Ensure both dates are in 'dd/mm/yyyy' format. If the original dates are not in this format, convert them.\\n\"\n",
        "        f\"Respond ONLY in this exact format:\\n\"\n",
        "        f\"Manufacturing Date: <MFG Date>, Expiration Date: <EXP Date>\"\n",
        "    )\n",
        "    print(\"[DEBUG] Response from validation function\", response)\n",
        "    # Ensure the response object is valid and contains the required parts\n",
        "    if hasattr(response, 'parts') and response.parts:\n",
        "        final_dates = response.parts[0].text.strip()\n",
        "        print(f\"[DEBUG] Gemini Response: {final_dates}\")\n",
        "\n",
        "        # Extract the dates from the response\n",
        "        mfg_date_str, exp_date_str = parse_gemini_response(final_dates)\n",
        "\n",
        "        # Process and swap if necessary\n",
        "        if mfg_date_str != \"-1\" and exp_date_str != \"-1\":\n",
        "            mfg_date = datetime.strptime(mfg_date_str, \"%Y/%m/%d\")\n",
        "            exp_date = datetime.strptime(exp_date_str, \"%Y/%m/%d\")\n",
        "\n",
        "            # Swap if Expiration Date is earlier than Manufacturing Date\n",
        "            if exp_date < mfg_date:\n",
        "                print(\"[DEBUG] Swapping dates.\")\n",
        "                mfg_date, exp_date = exp_date, mfg_date\n",
        "\n",
        "            # Return the formatted swapped dates\n",
        "            return (\n",
        "                f\"Manufacturing Date: {mfg_date.strftime('%Y/%m/%d')}, \"\n",
        "                f\"Expiration Date: {exp_date.strftime('%Y/%m/%d')}\"\n",
        "            )\n",
        "\n",
        "        # If either date is -1, return them as-is\n",
        "        return final_dates\n",
        "\n",
        "    # Handle invalid responses gracefully\n",
        "    print(\"[ERROR] Invalid response from Gemini API.\")\n",
        "    return \"Invalid response from Gemini API.\"\n",
        "\n",
        "def extract_and_validate_with_gemini(refined_text):\n",
        "    \"\"\"\n",
        "    Use Gemini API to extract, validate, correct, and swap dates in 'yyyy/mm/dd' format if necessary.\n",
        "    \"\"\"\n",
        "    model = genai.GenerativeModel(GEMINI_MODEL)\n",
        "\n",
        "    # Generate content using Gemini with the refined prompt\n",
        "    response = model.generate_content(\n",
        "        f\"The extracted text is:\\n'{refined_text}'\\n\\n\"\n",
        "        f\"1. Extract the 'Manufacturing Date' and 'Expiration Date' from the above text. \"\n",
        "        f\"Ignore unrelated data (e.g., 'MRP: Not Found').\\n\"\n",
        "        f\"2. If a date is missing or invalid, return -1 for that date.\\n\"\n",
        "        f\"3. If the 'Expiration Date' is earlier than the 'Manufacturing Date', swap them.\\n\"\n",
        "        f\"4. Ensure both dates are in 'dd/mm/yyyy' format. If the original dates are not in this format, convert them.\\n\"\n",
        "        f\"Respond ONLY in this exact format:\\n\"\n",
        "        f\"Manufacturing Date: <MFG Date>, Expiration Date: <EXP Date>\"\n",
        "    )\n",
        "\n",
        "    # Validate the response and extract dates\n",
        "    if hasattr(response, 'parts') and response.parts:\n",
        "        final_dates = response.parts[0].text.strip()\n",
        "        print(f\"[DEBUG] Gemini Response: {final_dates}\")\n",
        "\n",
        "        # Extract the dates from the response\n",
        "        mfg_date_str, exp_date_str = parse_gemini_response(final_dates)\n",
        "\n",
        "        # Process and swap if necessary\n",
        "        if mfg_date_str != \"-1\" and exp_date_str != \"-1\":\n",
        "            mfg_date = datetime.strptime(mfg_date_str, \"%d/%m/%Y\")\n",
        "            exp_date = datetime.strptime(exp_date_str, \"%d/%m/%Y\")\n",
        "\n",
        "            # Swap if Expiration Date is earlier than Manufacturing Date\n",
        "            swapping_statement = \"\"\n",
        "            if exp_date < mfg_date:\n",
        "                print(\"[DEBUG] Swapping dates.\")\n",
        "                mfg_date, exp_date = exp_date, mfg_date\n",
        "                swapping_statement = \"Corrected Dates: \\n\"\n",
        "\n",
        "            # Return the formatted swapped dates\n",
        "            return swapping_statement + (\n",
        "                f\"Manufacturing Date: {mfg_date.strftime('%d/%m/%Y')}, \"\n",
        "                f\"Expiration Date: {exp_date.strftime('%d/%m/%Y')}\"\n",
        "            )\n",
        "\n",
        "        # If either date is -1, return them as-is\n",
        "        return final_dates\n",
        "\n",
        "    # Handle invalid responses gracefully\n",
        "    print(\"[ERROR] Invalid response from Gemini API.\")\n",
        "    return \"Invalid response from Gemini API.\"\n",
        "\n",
        "def parse_gemini_response(response_text):\n",
        "    \"\"\"\n",
        "    Helper function to extract Manufacturing Date and Expiration Date from the response text.\n",
        "    \"\"\"\n",
        "    try:\n",
        "        # Split and extract the dates\n",
        "        parts = response_text.split(\", \")\n",
        "        mfg_date_str = parts[0].split(\": \")[1].strip()\n",
        "        exp_date_str = parts[1].split(\": \")[1].strip()\n",
        "        return mfg_date_str, exp_date_str\n",
        "    except IndexError:\n",
        "        print(\"[ERROR] Failed to parse Gemini response.\")\n",
        "        return \"-1\", \"-1\"\n",
        "\n",
        "def extract_date(refined_text, date_type):\n",
        "    \"\"\"Extract the specified date type from the refined text.\"\"\"\n",
        "    if date_type in refined_text:\n",
        "        try:\n",
        "            # Split the text and find the date for the specified type\n",
        "            parts = refined_text.split(',')\n",
        "            for part in parts:\n",
        "                if date_type in part:\n",
        "                    return part.split(':')[1].strip()  # Return the date value\n",
        "        except IndexError:\n",
        "            return '-1'  # Return -1 if the date is not found\n",
        "    return '-1'  # Return -1 if the date type is not in the text\n",
        "\n"
      ],
      "metadata": {
        "id": "jYd6IPcubYpW"
      },
      "execution_count": 21,
      "outputs": []
    },
    {
      "cell_type": "markdown",
      "source": [
        "### **Model 1**\n",
        "Without Yolo model and without any front-end user interface\n",
        "(Only need to run one cell below)"
      ],
      "metadata": {
        "id": "FngrFfPObbQK"
      }
    },
    {
      "cell_type": "code",
      "source": [
        "# Upload the image in Colab and retrieve the path dynamically\n",
        "uploaded = files.upload()\n",
        "image_path = list(uploaded.keys())[0]  # Dynamically get the uploaded filename\n",
        "\n",
        "# Initialize PaddleOCR with detection enabled\n",
        "ocr = PaddleOCR(use_angle_cls=True, lang='en')\n",
        "\n",
        "def detect_and_analyze_regions(image_path):\n",
        "    # Load the image and handle possible errors\n",
        "    img = cv2.imread(image_path)\n",
        "    if img is None:\n",
        "        raise FileNotFoundError(f\"Could not load image at {image_path}. Check the path or format.\")\n",
        "\n",
        "    height, width, _ = img.shape\n",
        "    part_height = height // 3\n",
        "    ocr_results = []\n",
        "\n",
        "    # Process the image in 3 vertical parts\n",
        "    for i in range(3):\n",
        "        y1, y2 = i * part_height, (i + 1) * part_height if i < 2 else height\n",
        "        region = img[y1:y2, :]\n",
        "\n",
        "        # Perform OCR on the region\n",
        "        result = ocr.ocr(region, cls=True)\n",
        "        if result and result[0]:  # Ensure there are valid results\n",
        "            text_data = \"\\n\".join([line[1][0] for line in result[0]])\n",
        "            ocr_results.append(text_data)\n",
        "        else:\n",
        "            print(f\"[DEBUG] No text detected in Region {i + 1}\")\n",
        "\n",
        "    # Combine all OCR text from the regions\n",
        "    if ocr_results:\n",
        "        combined_text = \" \".join(ocr_results)+\"\\n\"\n",
        "        bounding_boxes_list= draw_bounding_boxes(image_path)\n",
        "        print(\"[DEBUG] \",bounding_boxes_list, type(bounding_boxes_list))\n",
        "\n",
        "        for text in bounding_boxes_list:\n",
        "          combined_text += text\n",
        "          combined_text += \"\\n\"\n",
        "        print(\"[DEBUG] combined tect\", combined_text)\n",
        "        # print(\"Combined Text\\n\", combined_text)\n",
        "        # Send the combined text to Gemini for correction/analysis\n",
        "        refined_text = gemini_context_correction(combined_text)\n",
        "        print(\"[DEBUG] Gemini Refined Text:\\n\", refined_text)\n",
        "\n",
        "        # Validate and correct dates\n",
        "        mfg_date = extract_date(refined_text, \"Manufacturing Date\")\n",
        "        exp_date = extract_date(refined_text, \"Expiration Date\")\n",
        "        # Validate the dates using Gemini\n",
        "        validated_output = validate_dates_with_gemini(mfg_date, exp_date)\n",
        "        print(\"[DEBUG] Validated Output from Gemini:\\n\", validated_output)\n",
        "\n",
        "        return validated_output\n",
        "    else:\n",
        "        print(\"[DEBUG] No text detected in any of the regions.\")\n",
        "        return None\n",
        "\n",
        "# Example usage\n",
        "final_output = detect_and_analyze_regions(image_path)\n",
        "\n",
        "# Example usage"
      ],
      "metadata": {
        "id": "_4CZz6K6bgmv"
      },
      "execution_count": null,
      "outputs": []
    },
    {
      "cell_type": "markdown",
      "source": [
        "### **Model 2**\n",
        "With Yolov8 n-model trained for 50 epochs\n",
        "and\n",
        "Gradio as user interface\n",
        "(in case model fails, we fall back to the approach from model 1)\n"
      ],
      "metadata": {
        "id": "CJIGPEGJbkQt"
      }
    },
    {
      "cell_type": "code",
      "source": [
        "model_path = OCR_M2\n",
        "model = YOLO(model_path)"
      ],
      "metadata": {
        "id": "pRR8fSAlbnom"
      },
      "execution_count": null,
      "outputs": []
    },
    {
      "cell_type": "markdown",
      "source": [
        "### **Model 3**\n",
        "Using Yolov8 x-large model trained till about 75 epochs\n",
        "and\n",
        "Gradio as user interface\n",
        "(in case model fails, we fall back to the approach from model 1)\n"
      ],
      "metadata": {
        "id": "7l_pFf52bqx9"
      }
    },
    {
      "cell_type": "code",
      "source": [
        "model_path = OCR_M3\n",
        "model = YOLO(model_path)"
      ],
      "metadata": {
        "id": "_ZAJ79bxbsgV"
      },
      "execution_count": 22,
      "outputs": []
    },
    {
      "cell_type": "markdown",
      "source": [
        "## Driver code to be run after selecting from Model 2 or 3.\n",
        "(Note: not needed for model 1)"
      ],
      "metadata": {
        "id": "TRPUy-YGb7OO"
      }
    },
    {
      "cell_type": "code",
      "source": [
        "def new_draw_bounding_boxes(image):\n",
        "    \"\"\"Draw bounding boxes around detected text in the image and display it.\"\"\"\n",
        "    # If the input is a string (file path), open the image\n",
        "    if isinstance(image, str):\n",
        "        img = Image.open(image)\n",
        "        np_img = np.array(img)  # Convert to NumPy array\n",
        "        ocr_result = ocr.ocr(np_img, cls=True)  # Perform OCR on the array\n",
        "    elif isinstance(image, Image.Image):\n",
        "        np_img = np.array(image)  # Convert PIL Image to NumPy array\n",
        "        ocr_result = ocr.ocr(np_img, cls=True)  # Perform OCR on the array\n",
        "    else:\n",
        "        raise ValueError(\"Input must be a file path or a PIL Image object.\")\n",
        "\n",
        "    # Create a figure to display the image\n",
        "    plt.figure(figsize=(10, 10))\n",
        "    plt.imshow(image)\n",
        "    ax = plt.gca()\n",
        "    all_text_data = []\n",
        "\n",
        "    # Iterate through the OCR results and draw boxes\n",
        "    for idx, line in enumerate(ocr_result[0]):\n",
        "        box = line[0]  # Get the bounding box coordinates\n",
        "        text = line[1][0]  # Extracted text\n",
        "        print(f\"[DEBUG] Box {idx + 1}: {text}\")  # Debug print\n",
        "        all_text_data.append(text)\n",
        "\n",
        "        # Draw the bounding box\n",
        "        polygon = plt.Polygon(box, fill=None, edgecolor='red', linewidth=2)\n",
        "        ax.add_patch(polygon)\n",
        "\n",
        "        # Add text label with a small offset for visibility\n",
        "        x, y = box[0][0], box[0][1]\n",
        "        ax.text(x, y - 5, f\"{idx + 1}: {text}\", color='blue', fontsize=12, ha='left')\n",
        "\n",
        "    plt.axis('off')  # Hide axes\n",
        "    plt.title(\"Detected Text with Bounding Boxes\", fontsize=16)  # Add a title\n",
        "    plt.show()\n",
        "\n",
        "    return all_text_data\n"
      ],
      "metadata": {
        "id": "Wuz1SKCEb-T-"
      },
      "execution_count": 23,
      "outputs": []
    },
    {
      "cell_type": "code",
      "source": [
        "# Initialize PaddleOCR\n",
        "ocr = PaddleOCR(use_angle_cls=True, lang='en')\n",
        "\n",
        "def detect_and_ocr(image):\n",
        "    \"\"\"Detect objects using YOLO, draw bounding boxes, and perform OCR.\"\"\"\n",
        "    # Convert input image from PIL to OpenCV format\n",
        "    image = cv2.cvtColor(np.array(image), cv2.COLOR_RGB2BGR)\n",
        "\n",
        "    # Run inference using YOLO model\n",
        "    results = model(image)\n",
        "    boxes = results[0].boxes.xyxy.cpu().numpy()  # Extract bounding box coordinates\n",
        "\n",
        "    extracted_texts = []\n",
        "    for (x1, y1, x2, y2) in boxes:\n",
        "        # Draw bounding box on the original image\n",
        "        cv2.rectangle(image, (int(x1), int(y1)), (int(x2), int(y2)), (0, 255, 0), 2)\n",
        "\n",
        "        # Perform OCR on the detected region using the original image and bounding box coordinates\n",
        "        region = image[int(y1):int(y2), int(x1):int(x2)]\n",
        "        ocr_result = ocr.ocr(region, cls=True)\n",
        "\n",
        "        # Check if ocr_result is None or empty\n",
        "        if ocr_result and isinstance(ocr_result, list) and ocr_result[0]:\n",
        "            for idx, line in enumerate(ocr_result[0]):\n",
        "                box = line[0]  # Get the bounding box coordinates\n",
        "                text = line[1][0]  # Extracted text\n",
        "                print(f\"[DEBUG] Box {idx + 1}: {text}\")  # Debug output\n",
        "                extracted_texts.append(text)\n",
        "        else:\n",
        "            # Handle case when OCR returns no result\n",
        "            print(f\"[DEBUG] No OCR result for region: ({x1}, {y1}, {x2}, {y2}) or OCR returned None\")\n",
        "            extracted_texts.append(\"No OCR result found\")  # Append a message to indicate no result\n",
        "\n",
        "    # Convert image to RGB for Gradio display\n",
        "    image_rgb = cv2.cvtColor(image, cv2.COLOR_BGR2RGB)\n",
        "\n",
        "    # Join all extracted texts into a single string\n",
        "    result_text = \"\\n\".join(str(text) for text in extracted_texts)\n",
        "\n",
        "    # Call the Gemini context correction function\n",
        "    refined_text = gemini_context_correction(result_text)\n",
        "    print(\"[DEBUG] Gemini Refined Text:\\n\", refined_text)\n",
        "\n",
        "    # Validate and correct dates\n",
        "    validated_output = extract_and_validate_with_gemini(refined_text)\n",
        "\n",
        "    print(\"[DEBUG] Validated Output from Gemini:\\n\", validated_output)\n",
        "\n",
        "    # Return image with bounding boxes and results\n",
        "    return image_rgb, result_text, refined_text, validated_output\n",
        "\n",
        "def further_processing(image, previous_result_text):\n",
        "    bounding_boxes_list = new_draw_bounding_boxes(image)\n",
        "    print(\"[DEBUG] \", bounding_boxes_list, type(bounding_boxes_list))\n",
        "    combined_text = previous_result_text\n",
        "    for text in bounding_boxes_list:\n",
        "        combined_text += text\n",
        "        combined_text += \"\\n\"\n",
        "    print(\"[DEBUG] combined text\", combined_text)\n",
        "    # Call Gemini for context correction and refinement\n",
        "    refined_output = gemini_context_correction(combined_text)\n",
        "    print(\"[DEBUG] Gemini Refined Output:\\n\", refined_output)\n",
        "\n",
        "    return refined_output   # Return refined output for display\n",
        "\n",
        "def handle_processing(validated_output):\n",
        "    \"\"\"Decide whether to proceed with further processing.\"\"\"\n",
        "    # Extract the manufacturing and expiration dates from the string\n",
        "    try:\n",
        "        mfg_date_str = validated_output.split(\"Manufacturing Date: \")[1].split(\",\")[0].strip()\n",
        "        exp_date_str = validated_output.split(\"Expiration Date: \")[1].strip()\n",
        "\n",
        "        # Convert the extracted values to integers\n",
        "        mfg_date = int(mfg_date_str)\n",
        "        exp_date = int(exp_date_str)\n",
        "        print(\"Further processing: \", mfg_date, exp_date)\n",
        "\n",
        "    except (IndexError, ValueError) as e:\n",
        "        print(f\"[ERROR] Failed to parse dates: {e}\")\n",
        "        return gr.update(visible=False)  # Hide button on error\n",
        "\n",
        "    # Check if both dates are -1\n",
        "    if mfg_date == -1 and exp_date == -1:\n",
        "        print(\"[DEBUG] Showing the 'Further Processing' button.\")  # Debug print\n",
        "        return gr.update(visible=True)  # Show 'Further Processing' button\n",
        "    print(\"[DEBUG] Hiding the 'Further Processing' button.\")  # Debug print\n",
        "    return gr.update(visible=False)  # Hide button if dates are valid\n",
        "\n",
        "\n"
      ],
      "metadata": {
        "id": "0-_e2_1lb_xo",
        "outputId": "fc19d210-8213-4f98-e345-6259fa2d86d1",
        "colab": {
          "base_uri": "https://localhost:8080/"
        }
      },
      "execution_count": 24,
      "outputs": [
        {
          "output_type": "stream",
          "name": "stdout",
          "text": [
            "[2024/10/18 07:34:33] ppocr DEBUG: Namespace(help='==SUPPRESS==', use_gpu=False, use_xpu=False, use_npu=False, use_mlu=False, ir_optim=True, use_tensorrt=False, min_subgraph_size=15, precision='fp32', gpu_mem=500, gpu_id=0, image_dir=None, page_num=0, det_algorithm='DB', det_model_dir='/root/.paddleocr/whl/det/en/en_PP-OCRv3_det_infer', det_limit_side_len=960, det_limit_type='max', det_box_type='quad', det_db_thresh=0.3, det_db_box_thresh=0.6, det_db_unclip_ratio=1.5, max_batch_size=10, use_dilation=False, det_db_score_mode='fast', det_east_score_thresh=0.8, det_east_cover_thresh=0.1, det_east_nms_thresh=0.2, det_sast_score_thresh=0.5, det_sast_nms_thresh=0.2, det_pse_thresh=0, det_pse_box_thresh=0.85, det_pse_min_area=16, det_pse_scale=1, scales=[8, 16, 32], alpha=1.0, beta=1.0, fourier_degree=5, rec_algorithm='SVTR_LCNet', rec_model_dir='/root/.paddleocr/whl/rec/en/en_PP-OCRv4_rec_infer', rec_image_inverse=True, rec_image_shape='3, 48, 320', rec_batch_num=6, max_text_length=25, rec_char_dict_path='/usr/local/lib/python3.10/dist-packages/paddleocr/ppocr/utils/en_dict.txt', use_space_char=True, vis_font_path='./doc/fonts/simfang.ttf', drop_score=0.5, e2e_algorithm='PGNet', e2e_model_dir=None, e2e_limit_side_len=768, e2e_limit_type='max', e2e_pgnet_score_thresh=0.5, e2e_char_dict_path='./ppocr/utils/ic15_dict.txt', e2e_pgnet_valid_set='totaltext', e2e_pgnet_mode='fast', use_angle_cls=True, cls_model_dir='/root/.paddleocr/whl/cls/ch_ppocr_mobile_v2.0_cls_infer', cls_image_shape='3, 48, 192', label_list=['0', '180'], cls_batch_num=6, cls_thresh=0.9, enable_mkldnn=False, cpu_threads=10, use_pdserving=False, warmup=False, sr_model_dir=None, sr_image_shape='3, 32, 128', sr_batch_num=1, draw_img_save_dir='./inference_results', save_crop_res=False, crop_res_save_dir='./output', use_mp=False, total_process_num=1, process_id=0, benchmark=False, save_log_path='./log_output/', show_log=True, use_onnx=False, return_word_box=False, output='./output', table_max_len=488, table_algorithm='TableAttn', table_model_dir=None, merge_no_span_structure=True, table_char_dict_path=None, layout_model_dir=None, layout_dict_path=None, layout_score_threshold=0.5, layout_nms_threshold=0.5, kie_algorithm='LayoutXLM', ser_model_dir=None, re_model_dir=None, use_visual_backbone=True, ser_dict_path='../train_data/XFUND/class_list_xfun.txt', ocr_order_method=None, mode='structure', image_orientation=False, layout=True, table=True, ocr=True, recovery=False, use_pdf2docx_api=False, invert=False, binarize=False, alphacolor=(255, 255, 255), lang='en', det=True, rec=True, type='ocr', savefile=False, ocr_version='PP-OCRv4', structure_version='PP-StructureV2')\n"
          ]
        }
      ]
    },
    {
      "cell_type": "markdown",
      "metadata": {
        "id": "DV0ogUeegaAb"
      },
      "source": [
        "# 5. Frontend Of Brand Recognition"
      ]
    },
    {
      "cell_type": "markdown",
      "metadata": {
        "id": "BhTIOB_vSsbV"
      },
      "source": [
        "## Layout for Image interface"
      ]
    },
    {
      "cell_type": "code",
      "execution_count": null,
      "metadata": {
        "id": "vJdfukblgbIf"
      },
      "outputs": [],
      "source": [
        "def create_image_interface():\n",
        "    return gr.Interface(\n",
        "        fn=detect_grocery_items,\n",
        "        inputs=gr.Image(label=\"Upload Image\", height=400, width=400),\n",
        "        outputs=[\n",
        "            gr.Image(label=\"Image with Bounding Boxes\", height=400, width=400),\n",
        "            gr.Dataframe(headers=[\"Item\", \"Quantity\", \"Avg Confidence\"], label=\"Detected Items and Quantities\", elem_id=\"summary_table\"),\n",
        "            gr.Textbox(label=\"Status\", elem_id=\"status_message\")\n",
        "        ],\n",
        "        title=\"Grocery Item Detection in an Image\",\n",
        "        description=\"Upload an image for object detection. The model will return an annotated image, item quantities, and average confidence scores.\",\n",
        "        css=\".gr-table { font-size: 16px; text-align: left; width: 50%; margin: auto; } #summary_table { margin-top: 20px; }\"\n",
        "    )"
      ]
    },
    {
      "cell_type": "markdown",
      "metadata": {
        "id": "ifKhlFkZgie2"
      },
      "source": [
        "## Layout For Video Interface"
      ]
    },
    {
      "cell_type": "code",
      "execution_count": null,
      "metadata": {
        "id": "aH4yO7kygkp3"
      },
      "outputs": [],
      "source": [
        "def create_video_interface():\n",
        "    return gr.Interface(\n",
        "        fn=annotate_video,  # This is the function that processes the video and returns the results\n",
        "        inputs=gr.Video(label=\"Upload Video\", height=400, width=400),\n",
        "        outputs=[\n",
        "            gr.Video(label=\"Annotated Video\", height=400, width=400),  # To display the annotated video\n",
        "            gr.Dataframe(headers=[\"Item\", \"Quantity\"], label=\"Detected Items and Quantities\", elem_id=\"summary_table\"),\n",
        "            gr.Textbox(label=\"Status\", elem_id=\"status_message\")  # Any additional status messages\n",
        "        ],\n",
        "        title=\"Grocery Item Detection in a Video\",\n",
        "        description=\"Upload a video for object detection. The model will return an annotated video with bounding boxes and item quantities. Low confidence values may indicate incorrect detection.\",\n",
        "        css=\"\"\"\n",
        "            .gr-table { font-size: 16px; text-align: left; width: 50%; margin: auto; }\n",
        "            #summary_table { margin-top: 20px; }\n",
        "        \"\"\"\n",
        "    )"
      ]
    },
    {
      "cell_type": "code",
      "source": [
        "def create_brand_recog_interface():\n",
        "    with gr.Blocks() as demo:\n",
        "        gr.Markdown(\"# Flipkart Grid Robotics Track - Brand Recognition Interface\")\n",
        "\n",
        "        with gr.Tabs():\n",
        "            with gr.Tab(\"Image\"):\n",
        "                create_image_interface()\n",
        "            with gr.Tab(\"Video\"):\n",
        "                create_video_interface()\n",
        "    return demo\n",
        "\n",
        "Brand_recog = create_brand_recog_interface()\n"
      ],
      "metadata": {
        "id": "1vmcJbgmrYl8"
      },
      "execution_count": null,
      "outputs": []
    },
    {
      "cell_type": "markdown",
      "metadata": {
        "id": "sKhGxo8F-T9y"
      },
      "source": [
        "# Frontend Of OCR"
      ]
    },
    {
      "cell_type": "code",
      "execution_count": 25,
      "metadata": {
        "id": "BSb-LkI2-TTJ"
      },
      "outputs": [],
      "source": [
        "def create_ocr_interface():\n",
        "    with gr.Blocks() as ocr_interface:\n",
        "        gr.Markdown(\"# Flipkart Grid Robotics Track - OCR Interface\")\n",
        "\n",
        "        with gr.Tabs():\n",
        "            with gr.TabItem(\"Upload & Detection\"):\n",
        "                with gr.Row():\n",
        "                    # Input: Upload image\n",
        "                    input_image = gr.Image(type=\"pil\", label=\"Upload Image\", height=400, width=400)\n",
        "                    output_image = gr.Image(label=\"Image with Bounding Boxes\", height=400, width=400)\n",
        "\n",
        "                # Button for Analyze Image & Extract Text\n",
        "                btn = gr.Button(\"Analyze Image & Extract Text\")\n",
        "\n",
        "            with gr.TabItem(\"OCR Results\"):\n",
        "                with gr.Row():\n",
        "                    extracted_textbox = gr.Textbox(label=\"Extracted OCR Text\", lines=5)\n",
        "                with gr.Row():\n",
        "                    refined_textbox = gr.Textbox(label=\"Refined Text from Gemini\", lines=5)\n",
        "                with gr.Row():\n",
        "                    validated_textbox = gr.Textbox(label=\"Validated Output\", lines=5)\n",
        "\n",
        "                # Comprehensive OCR button (Initially hidden)\n",
        "                further_button = gr.Button(\"Comprehensive OCR\", visible=False)\n",
        "\n",
        "        # Detect and OCR button click event\n",
        "        btn.click(\n",
        "            detect_and_ocr,\n",
        "            inputs=[input_image],\n",
        "            outputs=[output_image, extracted_textbox, refined_textbox, validated_textbox]\n",
        "        )\n",
        "\n",
        "        # Further processing button click event\n",
        "        further_button.click(\n",
        "            further_processing,\n",
        "            inputs=[input_image, extracted_textbox],\n",
        "            outputs=refined_textbox\n",
        "        )\n",
        "\n",
        "        # Monitor validated output to control button visibility\n",
        "        refined_textbox.change(\n",
        "            handle_processing,\n",
        "            inputs=[validated_textbox],\n",
        "            outputs=[further_button]\n",
        "        )\n",
        "\n",
        "        # Hide the validated_textbox when \"Comprehensive OCR\" is clicked\n",
        "        further_button.click(\n",
        "            lambda: gr.update(visible=False),\n",
        "            outputs=[validated_textbox]\n",
        "        )\n",
        "\n",
        "    return ocr_interface\n",
        "\n",
        "# Create and launch the OCR interface\n",
        "ocr_interface = create_ocr_interface()\n",
        "# ocr_interface.launch(share=True, debug=True)\n"
      ]
    },
    {
      "cell_type": "markdown",
      "metadata": {
        "id": "J8OSFWUxgpkK"
      },
      "source": [
        "# 6. Create a Tabbed Interface for Both Image and Video\n",
        "### Here, we combine the image and video interfaces into a tabbed structure so users can switch between them easily."
      ]
    },
    {
      "cell_type": "code",
      "execution_count": 14,
      "metadata": {
        "id": "uU5PErJWgx2A",
        "outputId": "9b24e158-0204-4a7d-b26c-f83c63736004",
        "colab": {
          "base_uri": "https://localhost:8080/",
          "height": 297
        }
      },
      "outputs": [
        {
          "output_type": "error",
          "ename": "NameError",
          "evalue": "name 'Brand_recog' is not defined",
          "traceback": [
            "\u001b[0;31m---------------------------------------------------------------------------\u001b[0m",
            "\u001b[0;31mNameError\u001b[0m                                 Traceback (most recent call last)",
            "\u001b[0;32m<ipython-input-14-f09dbb8be938>\u001b[0m in \u001b[0;36m<cell line: 7>\u001b[0;34m()\u001b[0m\n\u001b[1;32m      5\u001b[0m     )\n\u001b[1;32m      6\u001b[0m \u001b[0;34m\u001b[0m\u001b[0m\n\u001b[0;32m----> 7\u001b[0;31m \u001b[0mtabbed_interface\u001b[0m \u001b[0;34m=\u001b[0m \u001b[0mcreate_tabbed_interface\u001b[0m\u001b[0;34m(\u001b[0m\u001b[0;34m)\u001b[0m\u001b[0;34m\u001b[0m\u001b[0;34m\u001b[0m\u001b[0m\n\u001b[0m",
            "\u001b[0;32m<ipython-input-14-f09dbb8be938>\u001b[0m in \u001b[0;36mcreate_tabbed_interface\u001b[0;34m()\u001b[0m\n\u001b[1;32m      1\u001b[0m \u001b[0;32mdef\u001b[0m \u001b[0mcreate_tabbed_interface\u001b[0m\u001b[0;34m(\u001b[0m\u001b[0;34m)\u001b[0m\u001b[0;34m:\u001b[0m\u001b[0;34m\u001b[0m\u001b[0;34m\u001b[0m\u001b[0m\n\u001b[1;32m      2\u001b[0m     return gr.TabbedInterface(\n\u001b[0;32m----> 3\u001b[0;31m         \u001b[0;34m[\u001b[0m\u001b[0mBrand_recog\u001b[0m\u001b[0;34m,\u001b[0m  \u001b[0mocr_interface\u001b[0m \u001b[0;34m]\u001b[0m\u001b[0;34m,\u001b[0m\u001b[0;34m\u001b[0m\u001b[0;34m\u001b[0m\u001b[0m\n\u001b[0m\u001b[1;32m      4\u001b[0m         \u001b[0;34m[\u001b[0m\u001b[0;34m\"Brand Recongnition\"\u001b[0m\u001b[0;34m,\u001b[0m \u001b[0;34m\"OCR\"\u001b[0m\u001b[0;34m]\u001b[0m\u001b[0;34m\u001b[0m\u001b[0;34m\u001b[0m\u001b[0m\n\u001b[1;32m      5\u001b[0m     )\n",
            "\u001b[0;31mNameError\u001b[0m: name 'Brand_recog' is not defined"
          ]
        }
      ],
      "source": [
        "def create_tabbed_interface():\n",
        "    return gr.TabbedInterface(\n",
        "        [Brand_recog,  ocr_interface ],\n",
        "        [\"Brand Recongnition\", \"OCR\"]\n",
        "    )\n",
        "\n",
        "tabbed_interface = create_tabbed_interface()"
      ]
    },
    {
      "cell_type": "markdown",
      "metadata": {
        "id": "iZoOhTz_fuhC"
      },
      "source": []
    },
    {
      "cell_type": "markdown",
      "metadata": {
        "id": "PXib0pFpg5U9"
      },
      "source": [
        "# 7. Launch the Gradio Interface\n",
        "### Finally, launch the Gradio interface to make it interactable."
      ]
    },
    {
      "cell_type": "code",
      "execution_count": null,
      "metadata": {
        "id": "A4GOdtXag7uc"
      },
      "outputs": [],
      "source": [
        "tabbed_interface.launch()"
      ]
    }
  ],
  "metadata": {
    "colab": {
      "provenance": [],
      "gpuType": "T4"
    },
    "kernelspec": {
      "display_name": "Python 3",
      "name": "python3"
    },
    "language_info": {
      "name": "python"
    },
    "accelerator": "GPU"
  },
  "nbformat": 4,
  "nbformat_minor": 0
}